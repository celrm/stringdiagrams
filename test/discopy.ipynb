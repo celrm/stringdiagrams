{
 "cells": [
  {
   "cell_type": "code",
   "execution_count": 1,
   "metadata": {},
   "outputs": [],
   "source": [
    "import json\n",
    "from functools import reduce\n",
    "from discopy.monoidal import Ty, Box\n",
    "from discopy.matrix import Matrix"
   ]
  },
  {
   "cell_type": "code",
   "execution_count": 2,
   "metadata": {},
   "outputs": [],
   "source": [
    "def build(d,f):\n",
    "    if d[\"type\"] == \"MorphismWNames\": return f(d)\n",
    "    if d[\"type\"] == \"Compose\":\n",
    "        return build(d[\"diagram1\"],f) >> build(d[\"diagram2\"],f)\n",
    "    if d[\"type\"] == \"Tensor\":\n",
    "        return build(d[\"diagram1\"],f) @ build(d[\"diagram2\"],f)\n",
    "    \n",
    "def box(d):\n",
    "    wires = lambda l: reduce(lambda x,y: x @ y, map(Ty, d[l]))\n",
    "    return Box(d[\"label\"], wires(\"dom\"), wires(\"cod\"))\n",
    "\n",
    "data = json.load(open('hh19.json'))\n",
    "build(data, box).draw(figsize=(3,3), path=\"discopy1.svg\")"
   ]
  },
  {
   "cell_type": "code",
   "execution_count": 3,
   "metadata": {},
   "outputs": [
    {
     "data": {
      "text/plain": [
       "Matrix[int64]([3, 4, 0, 8], dom=2, cod=2)"
      ]
     },
     "execution_count": 3,
     "metadata": {},
     "output_type": "execute_result"
    }
   ],
   "source": [
    "def mat(d):\n",
    "    m = eval(d[\"label\"].strip())\n",
    "    return Matrix([e for r in m for e in r], len(m), len(m[0]))\n",
    "\n",
    "data = json.load(open('mat.json'))\n",
    "build(data, mat)"
   ]
  }
 ],
 "metadata": {
  "kernelspec": {
   "display_name": "Python 3",
   "language": "python",
   "name": "python3"
  },
  "language_info": {
   "codemirror_mode": {
    "name": "ipython",
    "version": 3
   },
   "file_extension": ".py",
   "mimetype": "text/x-python",
   "name": "python",
   "nbconvert_exporter": "python",
   "pygments_lexer": "ipython3",
   "version": "3.10.12"
  },
  "orig_nbformat": 4
 },
 "nbformat": 4,
 "nbformat_minor": 2
}
